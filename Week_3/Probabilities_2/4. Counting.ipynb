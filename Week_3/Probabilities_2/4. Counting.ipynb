{
 "cells": [
  {
   "cell_type": "markdown",
   "metadata": {},
   "source": [
    "## 4. Counting"
   ]
  },
  {
   "cell_type": "markdown",
   "metadata": {},
   "source": [
    "Counting is not always easy, some aspects that involve counting present complex problems such as in how many different ways can 5 different genes be arranged to effectively activate a biological process? or How many different ways can a group of images be selected from a subset of 10?\n",
    "\n",
    "---\n",
    "\n",
    "**Combinatorials:** laborious and time consuming process if solved directly. We rely on mathematical solutions to facilitate a rapid solution to such questions.\n",
    "\n",
    "### Multiplication Rule\n",
    "\n",
    "Lets imagine two different events A and B from different processes. For example, A can be rolling a die and B growing a card from a deck of 52 cards.\n",
    "\n",
    "A has 6 possible outcomes and B has 52 possible outcomes, generalizing....\n",
    "\n",
    "**event A has m possible outcomes and event B has n possible outcomes, then the number of outcomes between A and B is n*m**\n",
    "\n",
    "In our previous example we have 6*52 possible different outcomes"
   ]
  },
  {
   "cell_type": "markdown",
   "metadata": {},
   "source": [
    "Example 2. Rolling Two Dice. Suppose that two dice are rolled. Since there are six possible outcomes for each die, the number of possible outcomes for the experiment is 6 × 6 = 36,"
   ]
  },
  {
   "cell_type": "markdown",
   "metadata": {},
   "source": [
    "---\n",
    "In the previous example we were combining outcomes from different sets. We can also combine outcomes from similar sets. For example: m distinct spam characters plus n distinct non-spam characters equals m + n distinct characters."
   ]
  },
  {
   "cell_type": "markdown",
   "metadata": {},
   "source": [
    "---\n",
    "### Permutations with replacement: Another way to name this process is an **Ordered Selection With Replacement**\n",
    "\n",
    "What is the probability that 10 persons, picked at random, are all born in May? \n",
    "\n",
    "year = 365 days\n",
    "may = 31 days\n",
    "\n",
    "$31^{10}$ ways to pick 10 birthdays in May\n",
    "\n",
    "and there are $365^{10}$ ways to pick 10 days in a year\n",
    "\n",
    "Therefore, the probability of randomly select 10 persons born in may is $\\frac{31^{10}}{365^{10}}$"
   ]
  },
  {
   "cell_type": "markdown",
   "metadata": {},
   "source": [
    "Permutations without replacement"
   ]
  },
  {
   "cell_type": "markdown",
   "metadata": {},
   "source": [
    "Combinatorials without replacement (Binomial coefficient)"
   ]
  },
  {
   "cell_type": "code",
   "execution_count": null,
   "metadata": {
    "collapsed": true
   },
   "outputs": [],
   "source": []
  }
 ],
 "metadata": {
  "kernelspec": {
   "display_name": "R",
   "language": "R",
   "name": "ir"
  },
  "language_info": {
   "codemirror_mode": "r",
   "file_extension": ".r",
   "mimetype": "text/x-r-source",
   "name": "R",
   "pygments_lexer": "r",
   "version": "3.5.0"
  }
 },
 "nbformat": 4,
 "nbformat_minor": 2
}
