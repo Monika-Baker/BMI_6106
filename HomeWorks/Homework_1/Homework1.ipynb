{
 "cells": [
  {
   "cell_type": "markdown",
   "metadata": {},
   "source": [
    "## Homework 1"
   ]
  },
  {
   "cell_type": "markdown",
   "metadata": {},
   "source": [
    "### 1. History of Probability\n",
    "It is said that de Mere had been betting that, in four rolls of a die, at least one six would turn up. He was winning consistently and, to get more people to play, he changed the game to bet that, in 24 rolls of two dice, a pair of sixes would turn up. It is claimed that de Mere lost with 24 and felt that 25 rolls were necessary to make the game favorable. "
   ]
  },
  {
   "cell_type": "code",
   "execution_count": null,
   "metadata": {
    "collapsed": true
   },
   "outputs": [],
   "source": [
    "#1. Write function to sample from die\n",
    "#2. Write a loop function to tally sucesses vs failures (define sucesses?)\n",
    "#3. Run 10000 trials (24 throws 10000 times - 25 throws 10000 times) keeping track of successes vs faiures (from function 2)\n",
    "#4. Calculate probabilities for 24 rolls and 25 rolls\n",
    "#5. Answer if de Mere was right and that we will win with 25 throws, give a mathematical explanation."
   ]
  },
  {
   "cell_type": "markdown",
   "metadata": {},
   "source": [
    "## 2. Addition rule\n",
    "\n",
    "#### Find the probabilities using the table\n",
    "\n",
    "\n",
    "> 1. Type O or AB.\n",
    "\n",
    "> 2. Type A or AB.\n",
    "\n",
    "> 3. Type AB or Rh negative. \n",
    "\n",
    "> 4. Type O and Negative. \n",
    "\n",
    "> 5. Type AB"
   ]
  },
  {
   "cell_type": "markdown",
   "metadata": {},
   "source": [
    "|Type     |O    |A    |B    |AB |Total |\n",
    "|:--------|:----|:----|:---------|:-------|:-----|\n",
    "|Positive |163  |662  |1513      |1603    |3941  |\n",
    "|Negative |224  |933  |2400      |2337    |5894  |\n",
    "|Total    |387  |1595 |3913      |3940    |9835  |\n"
   ]
  },
  {
   "cell_type": "markdown",
   "metadata": {},
   "source": [
    "### 3. Multiplication Rule\n",
    "\n",
    "##### Answer questions below using this exercise: If I roll 5 dice, what is the chance of getting all sixes? What is the chance of getting no sixes?\n",
    "\n",
    "Write a simulation in R to obtain the probabilities for each of these two exercises running 10000 trials\n",
    "\n",
    "Hint.\n",
    "\n",
    "Remember that the change to get all 6 in 5 rolls is $(1/6)^5$\n",
    "\n",
    "and to get no sixes is $(5/6)^5$\n"
   ]
  },
  {
   "cell_type": "code",
   "execution_count": null,
   "metadata": {
    "collapsed": true
   },
   "outputs": [],
   "source": [
    "#All sixes\n",
    "#1. Write function to sample from die\n",
    "#2. Write function to determine if in each 5 rolls we get all sixes (6*5) \n",
    "#3. Run 10000 trials - Hint check sapply function\n",
    "#4. Calculate probabilities \n",
    "#No sixes\n",
    "#Repeat 1:4\n"
   ]
  },
  {
   "cell_type": "markdown",
   "metadata": {},
   "source": [
    "### 4. Conditional Probability\n",
    "\n",
    "Consider a family that has three children. We are interested in the children's genders. Our sample space is S={(G,G,G),(G,G,B),(G,B,G),(G,B,B),(B,G,G),(B,G,B),(B,B,G),(B,B,B)}. Also assume that all eight possible outcomes are equally likely.\n",
    "\n",
    "1. What is the probability that the three children are girls given that the first child is a girl?\n",
    "\n",
    "2. What is the probability that At least two children are boys given that the first child is a boy?"
   ]
  },
  {
   "cell_type": "code",
   "execution_count": null,
   "metadata": {
    "collapsed": true
   },
   "outputs": [],
   "source": []
  },
  {
   "cell_type": "markdown",
   "metadata": {},
   "source": [
    "## 5. Markov Chains\n",
    "\n",
    "As explained in class, create a function that simulates the following random walk based on the conditional probabilities from the transition matrix:\n",
    "\n",
    "![title](diagram.png)\n",
    "\n",
    "Once the function is created, simulate 500 random walks of 10 steps each (you choose the initial state - can be a constant or a user defined variable). \n",
    "\n",
    "Example of ONE random walk 2,3,2,3,4,4,4,4,4,4 (remember that 0 and 4 are absorbing states). \n",
    "\n",
    "Plot the 500 simulations.\n",
    "\n",
    "Capture each one of the 500 walks last state (at step 10) and create a table of frequencies for each one of the states. it should looks something like\n",
    "\n",
    "|State  |Count|Frequency|\n",
    "|:------|:----|:--------|\n",
    "|0      |100  |0.2      |\n",
    "|1      |100  |0.2      |\n",
    "|2      |100  |0.2      |\n",
    "|3      |100  |0.2      |\n",
    "|4      |100  |0.2      |\n",
    "|total  |500  |1.0      |"
   ]
  },
  {
   "cell_type": "code",
   "execution_count": null,
   "metadata": {},
   "outputs": [],
   "source": [
    "##This is an example of the code, but you can create the functions and the plots anyway you want (even in python)\n",
    "\n",
    "library(markovchain)\n",
    "\n",
    "#1. create function that produces a random walk of size N\n",
    "\n",
    "####Random Walk function\n",
    "#N = number of steps in the walk\n",
    "#Ini_prob = initial state\n",
    "#P_mat = Probability matrix\n",
    "Sim_Markov=function(N,Ini_prob,P_mat) {\n",
    "  #write function that generates one random walk sampling from the initial state....\n",
    "  return(b)\n",
    "}\n",
    "\n",
    "#2. Define the initial state Ini_prob - different examples\n",
    "Ini_prob=c(0.0005,0.4,0.199,0.4,0.0005)\n",
    "Ini_prob=c(0.2,0.2,0.2,0.2,0.2)\n",
    "Ini_prob=c(0,0,1,0,0)\n",
    "\n",
    "#3. Define the transition probabilities matrix\n",
    "P_mat=matrix(0,5,5)\n",
    "P_mat[1,]=c(1,0,0,0,0)\n",
    "P_mat[2,]=\n",
    "P_mat[3,]=\n",
    "P_mat[4,]=\n",
    "P_mat[5,]=\n",
    "\n",
    "#Number of steps\n",
    "Nst=10\n",
    "##Run one ramdom walk - for testing\n",
    "X=Sim_Markov(Nst,Ini_prob,P_mat)\n",
    "\n",
    "X\n",
    "\n",
    "e.g. 3,2,1,1,1,1,1,1,1,1\n"
   ]
  },
  {
   "cell_type": "code",
   "execution_count": 1,
   "metadata": {},
   "outputs": [],
   "source": [
    "##plot the 500 simulations\n",
    "\n",
    "##an option is to look something like this, where I am plotting each random walk and change the color to red \n",
    "##if the state is 0 or 5, green for the others. "
   ]
  },
  {
   "attachments": {},
   "cell_type": "markdown",
   "metadata": {},
   "source": [
    "![title](Random_Walk.png)"
   ]
  },
  {
   "cell_type": "code",
   "execution_count": 2,
   "metadata": {},
   "outputs": [],
   "source": [
    "###Create table of frequencies"
   ]
  }
 ],
 "metadata": {
  "kernelspec": {
   "display_name": "R",
   "language": "R",
   "name": "ir"
  },
  "language_info": {
   "codemirror_mode": "r",
   "file_extension": ".r",
   "mimetype": "text/x-r-source",
   "name": "R",
   "pygments_lexer": "r",
   "version": "3.6.0"
  }
 },
 "nbformat": 4,
 "nbformat_minor": 2
}
